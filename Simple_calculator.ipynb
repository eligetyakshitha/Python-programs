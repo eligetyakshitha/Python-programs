{
  "nbformat": 4,
  "nbformat_minor": 0,
  "metadata": {
    "colab": {
      "provenance": []
    },
    "kernelspec": {
      "name": "python3",
      "display_name": "Python 3"
    },
    "language_info": {
      "name": "python"
    }
  },
  "cells": [
    {
      "cell_type": "markdown",
      "source": [
        "Simple Calculator"
      ],
      "metadata": {
        "id": "1UZSpIJES9Og"
      }
    },
    {
      "cell_type": "code",
      "source": [
        "def add(x,y):\n",
        "  return x+y\n",
        "\n",
        "def subtract(x,y):\n",
        "  return x-y\n",
        "\n",
        "def multiply(x,y):\n",
        "  return x*y\n",
        "\n",
        "def divide(x,y):\n",
        "  if y!=0:\n",
        "      return x/y\n",
        "  else:\n",
        "        return \"error! division\"\n",
        "def calculator():\n",
        "    print(\"select operation\")\n",
        "    print(\"choose operation\")\n",
        "    print(\"1. add\")\n",
        "    print(\"2. subtract\")\n",
        "    print(\"3. multiply\")\n",
        "    print(\"4. divide\")\n",
        "\n",
        "    while True:\n",
        "        choice=input(\"enter choice(1/2/3/4)\")\n",
        "        if choice in ['1','2','3','4']:\n",
        "            num1=float(input(\"enter first number:\"))\n",
        "            num2=float(input(\"enter second number:\"))\n",
        "\n",
        "        if choice == '1':\n",
        "               print(f\"The result is: {add(num1,num2)}\")\n",
        "        elif choice == '2':\n",
        "              print(f\"The result is:  {subtract(num1,num2)}\")\n",
        "        elif choice == '3':\n",
        "              print(f\"The result is:  {multiply(num1,num2)}\")\n",
        "        elif choice == '4':\n",
        "              print(f\"The result is:  {divide(num1,num2)}\")\n",
        "\n",
        "\n",
        "        next_calculation = input(\"Do you want to perform another calculation? (yes/no):\")\n",
        "        if next_calculation.lower() != 'yes':\n",
        "              break\n",
        "        else:\n",
        "          print(\"invalid input\")\n",
        "\n",
        "  #run the calculator\n",
        "calculator()\n",
        "\n",
        "\n",
        "\n",
        "\n",
        "\n",
        ""
      ],
      "metadata": {
        "colab": {
          "base_uri": "https://localhost:8080/"
        },
        "id": "Trlt_NQ6TEp_",
        "outputId": "a0162a1d-2a4a-45bc-f929-e74967240e3c"
      },
      "execution_count": 14,
      "outputs": [
        {
          "name": "stdout",
          "output_type": "stream",
          "text": [
            "select operation\n",
            "choose operation\n",
            "1. add\n",
            "2. subtract\n",
            "3. multiply\n",
            "4. divide\n",
            "enter choice(1/2/3/4)1\n",
            "enter first number:22\n",
            "enter second number:2\n",
            "The result is: 24.0\n",
            "Do you want to perform another calculation? (yes/no):yes\n",
            "invalid input\n",
            "enter choice(1/2/3/4)2\n",
            "enter first number:40\n",
            "enter second number:11\n",
            "The result is:  29.0\n",
            "Do you want to perform another calculation? (yes/no):yes\n",
            "invalid input\n",
            "enter choice(1/2/3/4)3\n",
            "enter first number:55\n",
            "enter second number:15\n",
            "The result is:  825.0\n",
            "Do you want to perform another calculation? (yes/no):yes\n",
            "invalid input\n",
            "enter choice(1/2/3/4)4\n",
            "enter first number:85\n",
            "enter second number:5\n",
            "The result is:  17.0\n",
            "Do you want to perform another calculation? (yes/no):no\n"
          ]
        }
      ]
    },
    {
      "cell_type": "code",
      "source": [],
      "metadata": {
        "id": "UlvOVLdbZpfN"
      },
      "execution_count": 14,
      "outputs": []
    }
  ]
}