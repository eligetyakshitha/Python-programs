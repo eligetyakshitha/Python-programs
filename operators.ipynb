{
  "nbformat": 4,
  "nbformat_minor": 0,
  "metadata": {
    "colab": {
      "provenance": []
    },
    "kernelspec": {
      "name": "python3",
      "display_name": "Python 3"
    },
    "language_info": {
      "name": "python"
    }
  },
  "cells": [
    {
      "cell_type": "code",
      "execution_count": 4,
      "metadata": {
        "colab": {
          "base_uri": "https://localhost:8080/"
        },
        "id": "LtJzQf7yf5FN",
        "outputId": "1b2cdd94-3b09-44a1-e907-663d8e43207b"
      },
      "outputs": [
        {
          "output_type": "execute_result",
          "data": {
            "text/plain": [
              "30"
            ]
          },
          "metadata": {},
          "execution_count": 4
        }
      ],
      "source": [
        "a=20\n",
        "b=10\n",
        "a+b\n"
      ]
    },
    {
      "cell_type": "code",
      "source": [
        "a=20\n",
        "b=30\n",
        "a-b"
      ],
      "metadata": {
        "colab": {
          "base_uri": "https://localhost:8080/"
        },
        "id": "-ltKBz2DgLKO",
        "outputId": "c5f8d9cd-4317-4cc3-8e1f-84df2a81545c"
      },
      "execution_count": 5,
      "outputs": [
        {
          "output_type": "execute_result",
          "data": {
            "text/plain": [
              "-10"
            ]
          },
          "metadata": {},
          "execution_count": 5
        }
      ]
    },
    {
      "cell_type": "code",
      "source": [
        "a*b"
      ],
      "metadata": {
        "colab": {
          "base_uri": "https://localhost:8080/"
        },
        "id": "fTo8ELGSgQm0",
        "outputId": "b6d3bb2f-e140-42bc-e6c7-63b80c87cb26"
      },
      "execution_count": 6,
      "outputs": [
        {
          "output_type": "execute_result",
          "data": {
            "text/plain": [
              "600"
            ]
          },
          "metadata": {},
          "execution_count": 6
        }
      ]
    },
    {
      "cell_type": "code",
      "source": [
        "a=20\n",
        "b=30\n",
        "a/b"
      ],
      "metadata": {
        "colab": {
          "base_uri": "https://localhost:8080/"
        },
        "id": "QUDCx3iHgWaT",
        "outputId": "8370046a-a63c-4ab5-d3cf-5823157f6fc4"
      },
      "execution_count": 7,
      "outputs": [
        {
          "output_type": "execute_result",
          "data": {
            "text/plain": [
              "0.6666666666666666"
            ]
          },
          "metadata": {},
          "execution_count": 7
        }
      ]
    },
    {
      "cell_type": "code",
      "source": [
        "a=20\n",
        "b=30\n",
        "a%b"
      ],
      "metadata": {
        "colab": {
          "base_uri": "https://localhost:8080/"
        },
        "id": "P1lTXRFhgfRs",
        "outputId": "bbd17665-d621-43aa-8991-c666babb8992"
      },
      "execution_count": 8,
      "outputs": [
        {
          "output_type": "execute_result",
          "data": {
            "text/plain": [
              "20"
            ]
          },
          "metadata": {},
          "execution_count": 8
        }
      ]
    },
    {
      "cell_type": "code",
      "source": [
        "a=20\n",
        "b=30"
      ],
      "metadata": {
        "colab": {
          "base_uri": "https://localhost:8080/"
        },
        "id": "hBIlgVwOgiJG",
        "outputId": "c379f632-2567-4694-9454-fd785a61751e"
      },
      "execution_count": 9,
      "outputs": [
        {
          "output_type": "stream",
          "name": "stdout",
          "text": [
            "addition 50\n"
          ]
        }
      ]
    },
    {
      "cell_type": "code",
      "source": [
        "print(\"multiplication\",a*b)"
      ],
      "metadata": {
        "colab": {
          "base_uri": "https://localhost:8080/"
        },
        "id": "dieuiD6yg4lK",
        "outputId": "6f487ee6-d8eb-4dfd-9ef3-abaacbc188c7"
      },
      "execution_count": 10,
      "outputs": [
        {
          "output_type": "stream",
          "name": "stdout",
          "text": [
            "multiplication 600\n"
          ]
        }
      ]
    },
    {
      "cell_type": "code",
      "source": [
        "d=7425\n",
        "s=550.0\n",
        "t=d/s\n",
        "print(t)"
      ],
      "metadata": {
        "colab": {
          "base_uri": "https://localhost:8080/"
        },
        "id": "l9OywuM1hQ_Z",
        "outputId": "69a048da-9827-4044-fd11-465f9869c1d7"
      },
      "execution_count": 13,
      "outputs": [
        {
          "output_type": "stream",
          "name": "stdout",
          "text": [
            "13.5\n"
          ]
        }
      ]
    },
    {
      "cell_type": "code",
      "source": [
        "a=50\n",
        "b=a*20/100\n",
        "print(b)\n"
      ],
      "metadata": {
        "colab": {
          "base_uri": "https://localhost:8080/"
        },
        "id": "3RSXE_SxiBA4",
        "outputId": "410c7831-d68e-44ee-d1c8-3dc1c81d7c19"
      },
      "execution_count": 14,
      "outputs": [
        {
          "output_type": "stream",
          "name": "stdout",
          "text": [
            "10.0\n"
          ]
        }
      ]
    },
    {
      "cell_type": "code",
      "source": [
        "a=50\n",
        "b=a*50/100\n",
        "print(b)"
      ],
      "metadata": {
        "colab": {
          "base_uri": "https://localhost:8080/"
        },
        "id": "cbjK204AjpT1",
        "outputId": "3569067a-4560-4dc3-8c10-a1262bc119d9"
      },
      "execution_count": 15,
      "outputs": [
        {
          "output_type": "stream",
          "name": "stdout",
          "text": [
            "25.0\n"
          ]
        }
      ]
    },
    {
      "cell_type": "code",
      "source": [
        "bill=int(input())\n",
        "tip=20/100*bill\n",
        "print(tip)"
      ],
      "metadata": {
        "colab": {
          "base_uri": "https://localhost:8080/"
        },
        "id": "MlADYUG6jyuH",
        "outputId": "851df06e-ea84-48ff-cd81-18ea0c42fd68"
      },
      "execution_count": 16,
      "outputs": [
        {
          "output_type": "stream",
          "name": "stdout",
          "text": [
            "125\n",
            "25.0\n"
          ]
        }
      ]
    },
    {
      "cell_type": "code",
      "source": [
        "bill=int(input())\n",
        "tip=20/100*bill\n",
        "print(tip)"
      ],
      "metadata": {
        "colab": {
          "base_uri": "https://localhost:8080/"
        },
        "id": "XEWUxux4kjyl",
        "outputId": "574e0e69-3008-4124-deb9-1352b8aff43b"
      },
      "execution_count": 17,
      "outputs": [
        {
          "output_type": "stream",
          "name": "stdout",
          "text": [
            "1125\n",
            "225.0\n"
          ]
        }
      ]
    },
    {
      "cell_type": "code",
      "source": [
        "a=20\n",
        "b=30\n",
        "print(a+b)\n",
        "print(a-b)\n",
        "print(a==b)\n",
        "print(a!=b)\n",
        "print(a<=b)\n",
        "print(a>=b)"
      ],
      "metadata": {
        "colab": {
          "base_uri": "https://localhost:8080/"
        },
        "id": "T0zL1w8Fk7Im",
        "outputId": "408c596c-276f-4e2c-e3ed-1f85ee0d6cd8"
      },
      "execution_count": 20,
      "outputs": [
        {
          "output_type": "stream",
          "name": "stdout",
          "text": [
            "50\n",
            "-10\n",
            "False\n",
            "True\n",
            "True\n",
            "False\n"
          ]
        }
      ]
    },
    {
      "cell_type": "code",
      "source": [
        "a=-20\n",
        "b=-45\n",
        "print(a+b)\n",
        "print(a-b)\n",
        "print(a==b)\n",
        "print(a!=b)\n",
        "print(a<=b)\n",
        "print(a>=b)"
      ],
      "metadata": {
        "colab": {
          "base_uri": "https://localhost:8080/"
        },
        "id": "esR1OfCXmkiP",
        "outputId": "fce434cf-8673-4c12-9e0a-1a7e6aaa23ca"
      },
      "execution_count": 21,
      "outputs": [
        {
          "output_type": "stream",
          "name": "stdout",
          "text": [
            "-65\n",
            "25\n",
            "False\n",
            "True\n",
            "False\n",
            "True\n"
          ]
        }
      ]
    },
    {
      "cell_type": "code",
      "source": [
        "a=20\n",
        "b=10\n",
        "print(a+b,a-b,a*b,a/b)"
      ],
      "metadata": {
        "colab": {
          "base_uri": "https://localhost:8080/"
        },
        "id": "wyxbQAlxnSNJ",
        "outputId": "bf429a23-a2cf-47be-a0bb-64df0cbc8eff"
      },
      "execution_count": 23,
      "outputs": [
        {
          "output_type": "stream",
          "name": "stdout",
          "text": [
            "30 10 200 2.0\n"
          ]
        }
      ]
    },
    {
      "cell_type": "code",
      "source": [
        "print(a+b,a-b,a*b,a/b)"
      ],
      "metadata": {
        "colab": {
          "base_uri": "https://localhost:8080/"
        },
        "id": "GNSh3_GgnnF1",
        "outputId": "bc8b57b1-54e3-4a39-e285-9dedd57d6144"
      },
      "execution_count": 24,
      "outputs": [
        {
          "output_type": "stream",
          "name": "stdout",
          "text": [
            "30 10 200 2.0\n"
          ]
        }
      ]
    },
    {
      "cell_type": "code",
      "source": [
        "print(a<b,a>b,a==b,a<=b,a>=b)"
      ],
      "metadata": {
        "colab": {
          "base_uri": "https://localhost:8080/"
        },
        "id": "mBL4vt3Rnsm9",
        "outputId": "1444df63-3c18-4635-f8ff-771c76fd667b"
      },
      "execution_count": 25,
      "outputs": [
        {
          "output_type": "stream",
          "name": "stdout",
          "text": [
            "False True False False True\n"
          ]
        }
      ]
    },
    {
      "cell_type": "code",
      "source": [
        "a=True\n",
        "b=False\n",
        "print(a and b)\n",
        "print(a or b)\n",
        "print(not b)"
      ],
      "metadata": {
        "colab": {
          "base_uri": "https://localhost:8080/"
        },
        "id": "qGUWiQc9n8q_",
        "outputId": "557b1b71-f5ec-4cb6-8985-d25680a6186b"
      },
      "execution_count": 28,
      "outputs": [
        {
          "output_type": "stream",
          "name": "stdout",
          "text": [
            "False\n",
            "True\n",
            "True\n"
          ]
        }
      ]
    },
    {
      "cell_type": "code",
      "source": [
        "a=10\n",
        "b=a\n",
        "print(b)\n",
        "b+=a\n",
        "print(b)\n",
        "b-=a\n",
        "print(b)\n",
        "b*=a\n",
        "print(b)\n",
        "b<<=a\n",
        "print(b)"
      ],
      "metadata": {
        "colab": {
          "base_uri": "https://localhost:8080/"
        },
        "id": "m-v_MNHcoRPz",
        "outputId": "a47f8e89-5d0c-4b8f-fb19-fe5788262e93"
      },
      "execution_count": 29,
      "outputs": [
        {
          "output_type": "stream",
          "name": "stdout",
          "text": [
            "10\n",
            "20\n",
            "10\n",
            "100\n",
            "102400\n"
          ]
        }
      ]
    },
    {
      "cell_type": "code",
      "source": [
        "a=25\n",
        "b=a\n",
        "print(b)\n",
        "b+=a\n",
        "print(b)\n",
        "b-=a\n",
        "print(b)\n",
        "b*=a\n",
        "print(b)\n",
        "b<<=a\n",
        "print(b)"
      ],
      "metadata": {
        "colab": {
          "base_uri": "https://localhost:8080/"
        },
        "id": "E_V-w_FUo6en",
        "outputId": "65f991fd-8fd6-475f-dc98-8c2a49b70450"
      },
      "execution_count": 30,
      "outputs": [
        {
          "output_type": "stream",
          "name": "stdout",
          "text": [
            "25\n",
            "50\n",
            "25\n",
            "625\n",
            "20971520000\n"
          ]
        }
      ]
    },
    {
      "cell_type": "code",
      "source": [
        "a=1\n",
        "b=a\n",
        "print(b)\n",
        "b+=a\n",
        "print(b)\n",
        "b-=a\n",
        "print(b)\n",
        "b*=a\n",
        "print(b)\n",
        "b<<=a\n",
        "print(b)"
      ],
      "metadata": {
        "colab": {
          "base_uri": "https://localhost:8080/"
        },
        "id": "94Xw1pIWpHLe",
        "outputId": "74010cdf-c753-4697-bd03-b047cbed15ae"
      },
      "execution_count": 31,
      "outputs": [
        {
          "output_type": "stream",
          "name": "stdout",
          "text": [
            "1\n",
            "2\n",
            "1\n",
            "1\n",
            "2\n"
          ]
        }
      ]
    },
    {
      "cell_type": "code",
      "source": [
        "a=10\n",
        "b=20\n",
        "c=a\n",
        "print(a is b)\n",
        "print(a is c)\n",
        "print(a is not c)"
      ],
      "metadata": {
        "colab": {
          "base_uri": "https://localhost:8080/"
        },
        "id": "8YQptAIVpMup",
        "outputId": "87695c2d-c435-4675-d18e-d81087870ac8"
      },
      "execution_count": 32,
      "outputs": [
        {
          "output_type": "stream",
          "name": "stdout",
          "text": [
            "False\n",
            "True\n",
            "False\n"
          ]
        }
      ]
    },
    {
      "cell_type": "code",
      "source": [
        "a=50\n",
        "b=25\n",
        "c=a\n",
        "print(a is b)\n",
        "print(a is c)\n",
        "print(a is not c)"
      ],
      "metadata": {
        "colab": {
          "base_uri": "https://localhost:8080/"
        },
        "id": "tQNDP2P6praL",
        "outputId": "a407a38c-9694-4266-b2f7-40b963d8ed3f"
      },
      "execution_count": 33,
      "outputs": [
        {
          "output_type": "stream",
          "name": "stdout",
          "text": [
            "False\n",
            "True\n",
            "False\n"
          ]
        }
      ]
    },
    {
      "cell_type": "code",
      "source": [
        "x=10\n",
        "y=15\n",
        "list=[10,20,30,40,50]\n",
        "if(x not in list):\n",
        "  print(\"x is not present in given list\")\n",
        "else:\n",
        "   print(\"x is present in the given list\")\n",
        "if(y in list):\n",
        "   print(\"y is present in the given list\")\n",
        "else:\n",
        "   print(\"y is not present in the given list\")"
      ],
      "metadata": {
        "colab": {
          "base_uri": "https://localhost:8080/"
        },
        "id": "M2SrOLc1pzI2",
        "outputId": "5faab2e1-1d8c-49f7-a03e-88d63850a2f5"
      },
      "execution_count": 38,
      "outputs": [
        {
          "output_type": "stream",
          "name": "stdout",
          "text": [
            "x is present in the given list\n",
            "y is not present in the given list\n"
          ]
        }
      ]
    },
    {
      "cell_type": "code",
      "source": [
        "x=15\n",
        "y=25\n",
        "list=[5,10,15,20,25]\n",
        "if(x not in list):\n",
        "  print(\"x is not present in given list\")\n",
        "else:\n",
        "  print(\"x is present in the given list\")\n",
        "  if(\"y in list\"):\n",
        "    print(\"y is present in the given list\")\n",
        "  else:\n",
        "    print(\"y is not present in the given list\")"
      ],
      "metadata": {
        "colab": {
          "base_uri": "https://localhost:8080/"
        },
        "id": "4vZDw6eIrgMX",
        "outputId": "edb30940-9c3b-460b-9c57-94656dbe830a"
      },
      "execution_count": 39,
      "outputs": [
        {
          "output_type": "stream",
          "name": "stdout",
          "text": [
            "x is present in the given list\n",
            "y is present in the given list\n"
          ]
        }
      ]
    },
    {
      "cell_type": "code",
      "source": [
        "(1,2,3)+(4,5,6)"
      ],
      "metadata": {
        "colab": {
          "base_uri": "https://localhost:8080/"
        },
        "id": "riHRx2eAtBk4",
        "outputId": "26c69fa7-b28d-4213-a7d4-ac62becb9bfc"
      },
      "execution_count": 40,
      "outputs": [
        {
          "output_type": "execute_result",
          "data": {
            "text/plain": [
              "(1, 2, 3, 4, 5, 6)"
            ]
          },
          "metadata": {},
          "execution_count": 40
        }
      ]
    },
    {
      "cell_type": "code",
      "source": [
        "\"hello \"+\" niha\""
      ],
      "metadata": {
        "colab": {
          "base_uri": "https://localhost:8080/",
          "height": 36
        },
        "id": "qR4vxX3ktUkj",
        "outputId": "448cd521-cc2f-4ff3-b8ee-093662617151"
      },
      "execution_count": 42,
      "outputs": [
        {
          "output_type": "execute_result",
          "data": {
            "text/plain": [
              "'hello  niha'"
            ],
            "application/vnd.google.colaboratory.intrinsic+json": {
              "type": "string"
            }
          },
          "metadata": {},
          "execution_count": 42
        }
      ]
    },
    {
      "cell_type": "code",
      "source": [
        "age=16\n",
        "if age<18:\n",
        "  print(\"you cant vote!\")\n",
        "else:\n",
        "    print(\"you can vote!\")\n",
        "    print(\"done!\")"
      ],
      "metadata": {
        "colab": {
          "base_uri": "https://localhost:8080/"
        },
        "id": "Y6-MAZkTtvGw",
        "outputId": "40854a9b-18c1-4b08-a429-b72f134cf66d"
      },
      "execution_count": 43,
      "outputs": [
        {
          "output_type": "stream",
          "name": "stdout",
          "text": [
            "you cant vote!\n"
          ]
        }
      ]
    },
    {
      "cell_type": "code",
      "source": [
        "age=int(input())\n",
        "if age<18:\n",
        "  print(\"you cant vote!\")\n",
        "else:\n",
        "    print(\"you can vote!\")\n",
        "print(\"done!\")\n"
      ],
      "metadata": {
        "colab": {
          "base_uri": "https://localhost:8080/"
        },
        "id": "tGtEcAa3vODH",
        "outputId": "6be03831-bb20-4ae3-9d18-dbcdd22c6d20"
      },
      "execution_count": 46,
      "outputs": [
        {
          "output_type": "stream",
          "name": "stdout",
          "text": [
            "11\n",
            "you cant vote!\n",
            "done!\n"
          ]
        }
      ]
    },
    {
      "cell_type": "code",
      "source": [
        "age=float(input())\n",
        "if age<18:\n",
        "  print(\"you cant vote!\")\n",
        "else:\n",
        "    print(\"you can vote!\")\n",
        "print(\"done!\")"
      ],
      "metadata": {
        "colab": {
          "base_uri": "https://localhost:8080/"
        },
        "id": "eYArxORLv2SD",
        "outputId": "20e6a62f-3957-4f7a-a78d-d6a5dc91f592"
      },
      "execution_count": 48,
      "outputs": [
        {
          "output_type": "stream",
          "name": "stdout",
          "text": [
            "17\n",
            "you cant vote!\n",
            "done!\n"
          ]
        }
      ]
    },
    {
      "cell_type": "code",
      "source": [
        "if 5>1:\n",
        "     print(\"that's True!\")"
      ],
      "metadata": {
        "colab": {
          "base_uri": "https://localhost:8080/"
        },
        "id": "wlefzlQ5wLxc",
        "outputId": "eaeae43f-272e-4604-fc70-14024b24904c"
      },
      "execution_count": 50,
      "outputs": [
        {
          "output_type": "stream",
          "name": "stdout",
          "text": [
            "that's True!\n"
          ]
        }
      ]
    },
    {
      "cell_type": "code",
      "source": [
        "x=35\n",
        "if x>20:\n",
        "     print(\"above twenty,\")\n",
        "     if x>30:\n",
        "         print(\"and also above 30!\")\n",
        "\n"
      ],
      "metadata": {
        "colab": {
          "base_uri": "https://localhost:8080/"
        },
        "id": "zZ4mvs9QypuX",
        "outputId": "124dfb4a-5318-4d65-9681-5f39ed4a58ed"
      },
      "execution_count": 51,
      "outputs": [
        {
          "output_type": "stream",
          "name": "stdout",
          "text": [
            "above twenty,\n",
            "and also above 30!\n"
          ]
        }
      ]
    },
    {
      "cell_type": "code",
      "source": [
        "a=33\n",
        "b=33\n",
        "if b>a:\n",
        "  print(\"b is greater than a\")\n",
        "elif a==b:\n",
        "  print(\"a and b are equal\")"
      ],
      "metadata": {
        "colab": {
          "base_uri": "https://localhost:8080/"
        },
        "id": "NEFcnr8yzLVi",
        "outputId": "c194dd10-845c-41fd-fd36-1fa5c0011b5f"
      },
      "execution_count": 52,
      "outputs": [
        {
          "output_type": "stream",
          "name": "stdout",
          "text": [
            "a and b are equal\n"
          ]
        }
      ]
    },
    {
      "cell_type": "code",
      "source": [
        "a=200\n",
        "b=33\n",
        "if b>a:\n",
        "  print(\"b is greater than a\")\n",
        "elif a==b:\n",
        "    print(\"a and b are equal\")\n",
        "else:\n",
        "      print(\"a is greater than b\")"
      ],
      "metadata": {
        "colab": {
          "base_uri": "https://localhost:8080/"
        },
        "id": "JRiGHavR0CGE",
        "outputId": "b0d735a8-0281-481b-fbcd-eabc51f76741"
      },
      "execution_count": 53,
      "outputs": [
        {
          "output_type": "stream",
          "name": "stdout",
          "text": [
            "a is greater than b\n"
          ]
        }
      ]
    },
    {
      "cell_type": "code",
      "source": [
        "a=200\n",
        "b=33\n",
        "if a>b: print(\"a is greater than b\")"
      ],
      "metadata": {
        "colab": {
          "base_uri": "https://localhost:8080/"
        },
        "id": "ZP7WXail02X0",
        "outputId": "a33d9d5d-8d3c-40ac-b683-4b6a1b6d8203"
      },
      "execution_count": 54,
      "outputs": [
        {
          "output_type": "stream",
          "name": "stdout",
          "text": [
            "a is greater than b\n"
          ]
        }
      ]
    },
    {
      "cell_type": "code",
      "source": [
        "print(\"A\") if a>b else print(\"B\")"
      ],
      "metadata": {
        "colab": {
          "base_uri": "https://localhost:8080/"
        },
        "id": "Hgn2DpDK1AGv",
        "outputId": "f73d7d19-e142-4f48-878b-84d0a3cff7c0"
      },
      "execution_count": 55,
      "outputs": [
        {
          "output_type": "stream",
          "name": "stdout",
          "text": [
            "A\n"
          ]
        }
      ]
    },
    {
      "cell_type": "code",
      "source": [
        "a=300\n",
        "b=33\n",
        "print(\"A\") if a>b else print(\"B\")"
      ],
      "metadata": {
        "colab": {
          "base_uri": "https://localhost:8080/"
        },
        "id": "vtjnGhgb1Ns-",
        "outputId": "eece0aad-0ae4-40ef-bebb-473cc29fe4be"
      },
      "execution_count": 56,
      "outputs": [
        {
          "output_type": "stream",
          "name": "stdout",
          "text": [
            "A\n"
          ]
        }
      ]
    },
    {
      "cell_type": "code",
      "source": [
        "weight=46\n",
        "height=1.54\n",
        "x=weight/(height*height)\n",
        "if x<18.5:\n",
        "  print(\"underweight\")\n",
        "elif x>=18.5 and x<25:\n",
        "    print(\"normal\")\n",
        "elif x>=25 and x<30:\n",
        "    print(\"overweight\")\n",
        "else:\n",
        "    print(\"obesity\")\n"
      ],
      "metadata": {
        "colab": {
          "base_uri": "https://localhost:8080/"
        },
        "id": "K_UwyrDA1-PN",
        "outputId": "fc3cc96a-3cee-48cd-dace-30e67ea1e19c"
      },
      "execution_count": 68,
      "outputs": [
        {
          "output_type": "stream",
          "name": "stdout",
          "text": [
            "normal\n"
          ]
        }
      ]
    },
    {
      "cell_type": "code",
      "source": [],
      "metadata": {
        "id": "DsEnWnMfJBh7"
      },
      "execution_count": null,
      "outputs": []
    }
  ]
}